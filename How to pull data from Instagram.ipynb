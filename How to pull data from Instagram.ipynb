{
 "cells": [
  {
   "cell_type": "code",
   "execution_count": 1,
   "id": "fdc01a8e",
   "metadata": {},
   "outputs": [
    {
     "name": "stdout",
     "output_type": "stream",
     "text": [
      "Collecting insta-scrape\n",
      "  Downloading insta_scrape-2.1.2-py3-none-any.whl.metadata (9.0 kB)\n",
      "Requirement already satisfied: beautifulsoup4 in /Applications/anaconda3/lib/python3.12/site-packages (from insta-scrape) (4.12.3)\n",
      "Requirement already satisfied: requests in /Applications/anaconda3/lib/python3.12/site-packages (from insta-scrape) (2.32.2)\n",
      "Requirement already satisfied: soupsieve>1.2 in /Applications/anaconda3/lib/python3.12/site-packages (from beautifulsoup4->insta-scrape) (2.5)\n",
      "Requirement already satisfied: charset-normalizer<4,>=2 in /Applications/anaconda3/lib/python3.12/site-packages (from requests->insta-scrape) (2.0.4)\n",
      "Requirement already satisfied: idna<4,>=2.5 in /Applications/anaconda3/lib/python3.12/site-packages (from requests->insta-scrape) (3.7)\n",
      "Requirement already satisfied: urllib3<3,>=1.21.1 in /Applications/anaconda3/lib/python3.12/site-packages (from requests->insta-scrape) (2.2.2)\n",
      "Requirement already satisfied: certifi>=2017.4.17 in /Applications/anaconda3/lib/python3.12/site-packages (from requests->insta-scrape) (2024.8.30)\n",
      "Downloading insta_scrape-2.1.2-py3-none-any.whl (26 kB)\n",
      "Installing collected packages: insta-scrape\n",
      "Successfully installed insta-scrape-2.1.2\n"
     ]
    }
   ],
   "source": [
    "!pip install insta-scrape"
   ]
  },
  {
   "cell_type": "code",
   "execution_count": 2,
   "id": "5b1145d9",
   "metadata": {},
   "outputs": [
    {
     "ename": "ModuleNotFoundError",
     "evalue": "No module named 'instascrape'",
     "output_type": "error",
     "traceback": [
      "\u001b[0;31m---------------------------------------------------------------------------\u001b[0m",
      "\u001b[0;31mModuleNotFoundError\u001b[0m                       Traceback (most recent call last)",
      "Input \u001b[0;32mIn [2]\u001b[0m, in \u001b[0;36m<cell line: 1>\u001b[0;34m()\u001b[0m\n\u001b[0;32m----> 1\u001b[0m \u001b[38;5;28;01mfrom\u001b[39;00m \u001b[38;5;21;01minstascrape\u001b[39;00m \u001b[38;5;28;01mimport\u001b[39;00m \u001b[38;5;241m*\u001b[39m\n",
      "\u001b[0;31mModuleNotFoundError\u001b[0m: No module named 'instascrape'"
     ]
    }
   ],
   "source": [
    "from instascrape import *"
   ]
  },
  {
   "cell_type": "code",
   "execution_count": 3,
   "id": "091daa0a",
   "metadata": {},
   "outputs": [
    {
     "name": "stdout",
     "output_type": "stream",
     "text": [
      "Collecting instaloader\n",
      "  Downloading instaloader-4.13.1.tar.gz (65 kB)\n",
      "\u001b[K     |████████████████████████████████| 65 kB 1.1 MB/s eta 0:00:01\n",
      "\u001b[?25hRequirement already satisfied: requests>=2.4 in /opt/anaconda3/lib/python3.9/site-packages (from instaloader) (2.27.1)\n",
      "Requirement already satisfied: certifi>=2017.4.17 in /opt/anaconda3/lib/python3.9/site-packages (from requests>=2.4->instaloader) (2021.10.8)\n",
      "Requirement already satisfied: charset-normalizer~=2.0.0 in /opt/anaconda3/lib/python3.9/site-packages (from requests>=2.4->instaloader) (2.0.4)\n",
      "Requirement already satisfied: urllib3<1.27,>=1.21.1 in /opt/anaconda3/lib/python3.9/site-packages (from requests>=2.4->instaloader) (1.26.9)\n",
      "Requirement already satisfied: idna<4,>=2.5 in /opt/anaconda3/lib/python3.9/site-packages (from requests>=2.4->instaloader) (3.3)\n",
      "Building wheels for collected packages: instaloader\n",
      "  Building wheel for instaloader (setup.py) ... \u001b[?25ldone\n",
      "\u001b[?25h  Created wheel for instaloader: filename=instaloader-4.13.1-py3-none-any.whl size=67237 sha256=964e299404619291890e5a5b39b4406f0e09204efb7b36604d48ba97397a5dbc\n",
      "  Stored in directory: /Users/lasya/Library/Caches/pip/wheels/bc/9a/9c/d99a6874aa4fe67ba51e6f9b6f5e81725c6f7860abecde6e56\n",
      "Successfully built instaloader\n",
      "Installing collected packages: instaloader\n",
      "Successfully installed instaloader-4.13.1\n",
      "Note: you may need to restart the kernel to use updated packages.\n"
     ]
    }
   ],
   "source": [
    "pip install instaloader"
   ]
  },
  {
   "cell_type": "code",
   "execution_count": 4,
   "id": "948fef93",
   "metadata": {},
   "outputs": [
    {
     "name": "stdout",
     "output_type": "stream",
     "text": [
      "Username: partly_aesthetic\n",
      "Full Name: Lasya Devineni\n",
      "Bio: Documenting the bits & pieces of my life- gym, cooking, reading, & more. \n",
      "📍HYD | Dallas\n",
      "Followers: 168\n",
      "Following: 306\n",
      "Number of Posts: 33\n"
     ]
    }
   ],
   "source": [
    "import instaloader\n",
    "\n",
    "# Create an instance of Instaloader\n",
    "L = instaloader.Instaloader()\n",
    "\n",
    "# Replace 'username_here' with the username of the profile you want to download\n",
    "username = 'partly_aesthetic'\n",
    "\n",
    "# Load the profile\n",
    "profile = instaloader.Profile.from_username(L.context, username)\n",
    "\n",
    "# Print profile details\n",
    "print(f\"Username: {profile.username}\")\n",
    "print(f\"Full Name: {profile.full_name}\")\n",
    "print(f\"Bio: {profile.biography}\")\n",
    "print(f\"Followers: {profile.followers}\")\n",
    "print(f\"Following: {profile.followees}\")\n",
    "print(f\"Number of Posts: {profile.mediacount}\")\n"
   ]
  },
  {
   "cell_type": "code",
   "execution_count": null,
   "id": "9e796828",
   "metadata": {},
   "outputs": [],
   "source": []
  }
 ],
 "metadata": {
  "kernelspec": {
   "display_name": "Python 3 (ipykernel)",
   "language": "python",
   "name": "python3"
  },
  "language_info": {
   "codemirror_mode": {
    "name": "ipython",
    "version": 3
   },
   "file_extension": ".py",
   "mimetype": "text/x-python",
   "name": "python",
   "nbconvert_exporter": "python",
   "pygments_lexer": "ipython3",
   "version": "3.9.12"
  }
 },
 "nbformat": 4,
 "nbformat_minor": 5
}
